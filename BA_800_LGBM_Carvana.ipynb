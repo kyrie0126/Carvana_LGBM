{
  "nbformat": 4,
  "nbformat_minor": 0,
  "metadata": {
    "colab": {
      "provenance": []
    },
    "kernelspec": {
      "name": "python3",
      "display_name": "Python 3"
    },
    "language_info": {
      "name": "python"
    }
  },
  "cells": [
    {
      "cell_type": "markdown",
      "source": [
        "# Import Libraries"
      ],
      "metadata": {
        "id": "_RjTw9xZmPmZ"
      }
    },
    {
      "cell_type": "code",
      "execution_count": 104,
      "metadata": {
        "id": "-OZXI0FZqkv1"
      },
      "outputs": [],
      "source": [
        "# Basic libraries\n",
        "import pandas as pd\n",
        "import numpy as np\n",
        "import datetime\n",
        "import seaborn as sns\n",
        "import matplotlib.pyplot as plt\n",
        "\n",
        "# Pipeline\n",
        "from sklearn.pipeline import make_pipeline\n",
        "from sklearn.compose import make_column_transformer\n",
        "\n",
        "# Feature engineering\n",
        "from sklearn.feature_selection import SelectKBest, chi2\n",
        "from sklearn.impute import SimpleImputer\n",
        "from sklearn.preprocessing import KBinsDiscretizer, OneHotEncoder, MinMaxScaler\n",
        "from sklearn.model_selection import train_test_split\n",
        "\n",
        "# Modeling\n",
        "from sklearn.metrics import mean_squared_error\n",
        "from sklearn.metrics import roc_auc_score\n",
        "from sklearn.linear_model import LogisticRegression\n",
        "from sklearn.ensemble import RandomForestClassifier\n",
        "from xgboost import XGBClassifier\n",
        "from lightgbm import LGBMClassifier"
      ]
    },
    {
      "cell_type": "code",
      "source": [
        "from google.colab import drive\n",
        "drive.mount('/gdrive')"
      ],
      "metadata": {
        "colab": {
          "base_uri": "https://localhost:8080/"
        },
        "id": "n-n5smO_rqwY",
        "outputId": "4b2ad0ca-fb96-45b8-ea18-aafd9472fa9e"
      },
      "execution_count": 105,
      "outputs": [
        {
          "output_type": "stream",
          "name": "stdout",
          "text": [
            "Drive already mounted at /gdrive; to attempt to forcibly remount, call drive.mount(\"/gdrive\", force_remount=True).\n"
          ]
        }
      ]
    },
    {
      "cell_type": "markdown",
      "source": [
        "# Import Data"
      ],
      "metadata": {
        "id": "0fiixBs3ooAi"
      }
    },
    {
      "cell_type": "code",
      "source": [
        "# Import data\n",
        "train = pd.read_csv('/gdrive/MyDrive/Datasets/Carvana/training.csv')\n",
        "test = pd.read_csv('/gdrive/MyDrive/Datasets/Carvana/test.csv')\n",
        "submission = test[['RefId']]"
      ],
      "metadata": {
        "id": "oXSctZU-rqwe"
      },
      "execution_count": 106,
      "outputs": []
    },
    {
      "cell_type": "code",
      "source": [
        "submission_log = submission"
      ],
      "metadata": {
        "id": "4qSYseK664xJ"
      },
      "execution_count": 107,
      "outputs": []
    },
    {
      "cell_type": "code",
      "source": [
        "pd.set_option('display.max_columns', None)\n",
        "train.head()"
      ],
      "metadata": {
        "colab": {
          "base_uri": "https://localhost:8080/",
          "height": 426
        },
        "id": "lnTkaBRVo4JZ",
        "outputId": "5e3c3a22-b5fd-446f-95d6-a19579eb671f"
      },
      "execution_count": 108,
      "outputs": [
        {
          "output_type": "execute_result",
          "data": {
            "text/plain": [
              "   RefId  IsBadBuy  PurchDate Auction  VehYear  VehicleAge   Make  \\\n",
              "0      1         0  12/7/2009   ADESA     2006           3  MAZDA   \n",
              "1      2         0  12/7/2009   ADESA     2004           5  DODGE   \n",
              "2      3         0  12/7/2009   ADESA     2005           4  DODGE   \n",
              "3      4         0  12/7/2009   ADESA     2004           5  DODGE   \n",
              "4      5         0  12/7/2009   ADESA     2005           4   FORD   \n",
              "\n",
              "                 Model Trim           SubModel   Color Transmission  \\\n",
              "0               MAZDA3    i         4D SEDAN I     RED         AUTO   \n",
              "1  1500 RAM PICKUP 2WD   ST  QUAD CAB 4.7L SLT   WHITE         AUTO   \n",
              "2           STRATUS V6  SXT   4D SEDAN SXT FFV  MAROON         AUTO   \n",
              "3                 NEON  SXT           4D SEDAN  SILVER         AUTO   \n",
              "4                FOCUS  ZX3       2D COUPE ZX3  SILVER       MANUAL   \n",
              "\n",
              "   WheelTypeID WheelType  VehOdo  Nationality         Size  \\\n",
              "0          1.0     Alloy   89046  OTHER ASIAN       MEDIUM   \n",
              "1          1.0     Alloy   93593     AMERICAN  LARGE TRUCK   \n",
              "2          2.0    Covers   73807     AMERICAN       MEDIUM   \n",
              "3          1.0     Alloy   65617     AMERICAN      COMPACT   \n",
              "4          2.0    Covers   69367     AMERICAN      COMPACT   \n",
              "\n",
              "  TopThreeAmericanName  MMRAcquisitionAuctionAveragePrice  \\\n",
              "0                OTHER                             8155.0   \n",
              "1             CHRYSLER                             6854.0   \n",
              "2             CHRYSLER                             3202.0   \n",
              "3             CHRYSLER                             1893.0   \n",
              "4                 FORD                             3913.0   \n",
              "\n",
              "   MMRAcquisitionAuctionCleanPrice  MMRAcquisitionRetailAveragePrice  \\\n",
              "0                           9829.0                           11636.0   \n",
              "1                           8383.0                           10897.0   \n",
              "2                           4760.0                            6943.0   \n",
              "3                           2675.0                            4658.0   \n",
              "4                           5054.0                            7723.0   \n",
              "\n",
              "   MMRAcquisitonRetailCleanPrice  MMRCurrentAuctionAveragePrice  \\\n",
              "0                        13600.0                         7451.0   \n",
              "1                        12572.0                         7456.0   \n",
              "2                         8457.0                         4035.0   \n",
              "3                         5690.0                         1844.0   \n",
              "4                         8707.0                         3247.0   \n",
              "\n",
              "   MMRCurrentAuctionCleanPrice  MMRCurrentRetailAveragePrice  \\\n",
              "0                       8552.0                       11597.0   \n",
              "1                       9222.0                       11374.0   \n",
              "2                       5557.0                        7146.0   \n",
              "3                       2646.0                        4375.0   \n",
              "4                       4384.0                        6739.0   \n",
              "\n",
              "   MMRCurrentRetailCleanPrice PRIMEUNIT AUCGUART  BYRNO  VNZIP1 VNST  \\\n",
              "0                     12409.0       NaN      NaN  21973   33619   FL   \n",
              "1                     12791.0       NaN      NaN  19638   33619   FL   \n",
              "2                      8702.0       NaN      NaN  19638   33619   FL   \n",
              "3                      5518.0       NaN      NaN  19638   33619   FL   \n",
              "4                      7911.0       NaN      NaN  19638   33619   FL   \n",
              "\n",
              "   VehBCost  IsOnlineSale  WarrantyCost  \n",
              "0    7100.0             0          1113  \n",
              "1    7600.0             0          1053  \n",
              "2    4900.0             0          1389  \n",
              "3    4100.0             0           630  \n",
              "4    4000.0             0          1020  "
            ],
            "text/html": [
              "\n",
              "  <div id=\"df-602425ba-bb2a-4479-a3fd-ec2e55e98743\">\n",
              "    <div class=\"colab-df-container\">\n",
              "      <div>\n",
              "<style scoped>\n",
              "    .dataframe tbody tr th:only-of-type {\n",
              "        vertical-align: middle;\n",
              "    }\n",
              "\n",
              "    .dataframe tbody tr th {\n",
              "        vertical-align: top;\n",
              "    }\n",
              "\n",
              "    .dataframe thead th {\n",
              "        text-align: right;\n",
              "    }\n",
              "</style>\n",
              "<table border=\"1\" class=\"dataframe\">\n",
              "  <thead>\n",
              "    <tr style=\"text-align: right;\">\n",
              "      <th></th>\n",
              "      <th>RefId</th>\n",
              "      <th>IsBadBuy</th>\n",
              "      <th>PurchDate</th>\n",
              "      <th>Auction</th>\n",
              "      <th>VehYear</th>\n",
              "      <th>VehicleAge</th>\n",
              "      <th>Make</th>\n",
              "      <th>Model</th>\n",
              "      <th>Trim</th>\n",
              "      <th>SubModel</th>\n",
              "      <th>Color</th>\n",
              "      <th>Transmission</th>\n",
              "      <th>WheelTypeID</th>\n",
              "      <th>WheelType</th>\n",
              "      <th>VehOdo</th>\n",
              "      <th>Nationality</th>\n",
              "      <th>Size</th>\n",
              "      <th>TopThreeAmericanName</th>\n",
              "      <th>MMRAcquisitionAuctionAveragePrice</th>\n",
              "      <th>MMRAcquisitionAuctionCleanPrice</th>\n",
              "      <th>MMRAcquisitionRetailAveragePrice</th>\n",
              "      <th>MMRAcquisitonRetailCleanPrice</th>\n",
              "      <th>MMRCurrentAuctionAveragePrice</th>\n",
              "      <th>MMRCurrentAuctionCleanPrice</th>\n",
              "      <th>MMRCurrentRetailAveragePrice</th>\n",
              "      <th>MMRCurrentRetailCleanPrice</th>\n",
              "      <th>PRIMEUNIT</th>\n",
              "      <th>AUCGUART</th>\n",
              "      <th>BYRNO</th>\n",
              "      <th>VNZIP1</th>\n",
              "      <th>VNST</th>\n",
              "      <th>VehBCost</th>\n",
              "      <th>IsOnlineSale</th>\n",
              "      <th>WarrantyCost</th>\n",
              "    </tr>\n",
              "  </thead>\n",
              "  <tbody>\n",
              "    <tr>\n",
              "      <th>0</th>\n",
              "      <td>1</td>\n",
              "      <td>0</td>\n",
              "      <td>12/7/2009</td>\n",
              "      <td>ADESA</td>\n",
              "      <td>2006</td>\n",
              "      <td>3</td>\n",
              "      <td>MAZDA</td>\n",
              "      <td>MAZDA3</td>\n",
              "      <td>i</td>\n",
              "      <td>4D SEDAN I</td>\n",
              "      <td>RED</td>\n",
              "      <td>AUTO</td>\n",
              "      <td>1.0</td>\n",
              "      <td>Alloy</td>\n",
              "      <td>89046</td>\n",
              "      <td>OTHER ASIAN</td>\n",
              "      <td>MEDIUM</td>\n",
              "      <td>OTHER</td>\n",
              "      <td>8155.0</td>\n",
              "      <td>9829.0</td>\n",
              "      <td>11636.0</td>\n",
              "      <td>13600.0</td>\n",
              "      <td>7451.0</td>\n",
              "      <td>8552.0</td>\n",
              "      <td>11597.0</td>\n",
              "      <td>12409.0</td>\n",
              "      <td>NaN</td>\n",
              "      <td>NaN</td>\n",
              "      <td>21973</td>\n",
              "      <td>33619</td>\n",
              "      <td>FL</td>\n",
              "      <td>7100.0</td>\n",
              "      <td>0</td>\n",
              "      <td>1113</td>\n",
              "    </tr>\n",
              "    <tr>\n",
              "      <th>1</th>\n",
              "      <td>2</td>\n",
              "      <td>0</td>\n",
              "      <td>12/7/2009</td>\n",
              "      <td>ADESA</td>\n",
              "      <td>2004</td>\n",
              "      <td>5</td>\n",
              "      <td>DODGE</td>\n",
              "      <td>1500 RAM PICKUP 2WD</td>\n",
              "      <td>ST</td>\n",
              "      <td>QUAD CAB 4.7L SLT</td>\n",
              "      <td>WHITE</td>\n",
              "      <td>AUTO</td>\n",
              "      <td>1.0</td>\n",
              "      <td>Alloy</td>\n",
              "      <td>93593</td>\n",
              "      <td>AMERICAN</td>\n",
              "      <td>LARGE TRUCK</td>\n",
              "      <td>CHRYSLER</td>\n",
              "      <td>6854.0</td>\n",
              "      <td>8383.0</td>\n",
              "      <td>10897.0</td>\n",
              "      <td>12572.0</td>\n",
              "      <td>7456.0</td>\n",
              "      <td>9222.0</td>\n",
              "      <td>11374.0</td>\n",
              "      <td>12791.0</td>\n",
              "      <td>NaN</td>\n",
              "      <td>NaN</td>\n",
              "      <td>19638</td>\n",
              "      <td>33619</td>\n",
              "      <td>FL</td>\n",
              "      <td>7600.0</td>\n",
              "      <td>0</td>\n",
              "      <td>1053</td>\n",
              "    </tr>\n",
              "    <tr>\n",
              "      <th>2</th>\n",
              "      <td>3</td>\n",
              "      <td>0</td>\n",
              "      <td>12/7/2009</td>\n",
              "      <td>ADESA</td>\n",
              "      <td>2005</td>\n",
              "      <td>4</td>\n",
              "      <td>DODGE</td>\n",
              "      <td>STRATUS V6</td>\n",
              "      <td>SXT</td>\n",
              "      <td>4D SEDAN SXT FFV</td>\n",
              "      <td>MAROON</td>\n",
              "      <td>AUTO</td>\n",
              "      <td>2.0</td>\n",
              "      <td>Covers</td>\n",
              "      <td>73807</td>\n",
              "      <td>AMERICAN</td>\n",
              "      <td>MEDIUM</td>\n",
              "      <td>CHRYSLER</td>\n",
              "      <td>3202.0</td>\n",
              "      <td>4760.0</td>\n",
              "      <td>6943.0</td>\n",
              "      <td>8457.0</td>\n",
              "      <td>4035.0</td>\n",
              "      <td>5557.0</td>\n",
              "      <td>7146.0</td>\n",
              "      <td>8702.0</td>\n",
              "      <td>NaN</td>\n",
              "      <td>NaN</td>\n",
              "      <td>19638</td>\n",
              "      <td>33619</td>\n",
              "      <td>FL</td>\n",
              "      <td>4900.0</td>\n",
              "      <td>0</td>\n",
              "      <td>1389</td>\n",
              "    </tr>\n",
              "    <tr>\n",
              "      <th>3</th>\n",
              "      <td>4</td>\n",
              "      <td>0</td>\n",
              "      <td>12/7/2009</td>\n",
              "      <td>ADESA</td>\n",
              "      <td>2004</td>\n",
              "      <td>5</td>\n",
              "      <td>DODGE</td>\n",
              "      <td>NEON</td>\n",
              "      <td>SXT</td>\n",
              "      <td>4D SEDAN</td>\n",
              "      <td>SILVER</td>\n",
              "      <td>AUTO</td>\n",
              "      <td>1.0</td>\n",
              "      <td>Alloy</td>\n",
              "      <td>65617</td>\n",
              "      <td>AMERICAN</td>\n",
              "      <td>COMPACT</td>\n",
              "      <td>CHRYSLER</td>\n",
              "      <td>1893.0</td>\n",
              "      <td>2675.0</td>\n",
              "      <td>4658.0</td>\n",
              "      <td>5690.0</td>\n",
              "      <td>1844.0</td>\n",
              "      <td>2646.0</td>\n",
              "      <td>4375.0</td>\n",
              "      <td>5518.0</td>\n",
              "      <td>NaN</td>\n",
              "      <td>NaN</td>\n",
              "      <td>19638</td>\n",
              "      <td>33619</td>\n",
              "      <td>FL</td>\n",
              "      <td>4100.0</td>\n",
              "      <td>0</td>\n",
              "      <td>630</td>\n",
              "    </tr>\n",
              "    <tr>\n",
              "      <th>4</th>\n",
              "      <td>5</td>\n",
              "      <td>0</td>\n",
              "      <td>12/7/2009</td>\n",
              "      <td>ADESA</td>\n",
              "      <td>2005</td>\n",
              "      <td>4</td>\n",
              "      <td>FORD</td>\n",
              "      <td>FOCUS</td>\n",
              "      <td>ZX3</td>\n",
              "      <td>2D COUPE ZX3</td>\n",
              "      <td>SILVER</td>\n",
              "      <td>MANUAL</td>\n",
              "      <td>2.0</td>\n",
              "      <td>Covers</td>\n",
              "      <td>69367</td>\n",
              "      <td>AMERICAN</td>\n",
              "      <td>COMPACT</td>\n",
              "      <td>FORD</td>\n",
              "      <td>3913.0</td>\n",
              "      <td>5054.0</td>\n",
              "      <td>7723.0</td>\n",
              "      <td>8707.0</td>\n",
              "      <td>3247.0</td>\n",
              "      <td>4384.0</td>\n",
              "      <td>6739.0</td>\n",
              "      <td>7911.0</td>\n",
              "      <td>NaN</td>\n",
              "      <td>NaN</td>\n",
              "      <td>19638</td>\n",
              "      <td>33619</td>\n",
              "      <td>FL</td>\n",
              "      <td>4000.0</td>\n",
              "      <td>0</td>\n",
              "      <td>1020</td>\n",
              "    </tr>\n",
              "  </tbody>\n",
              "</table>\n",
              "</div>\n",
              "      <button class=\"colab-df-convert\" onclick=\"convertToInteractive('df-602425ba-bb2a-4479-a3fd-ec2e55e98743')\"\n",
              "              title=\"Convert this dataframe to an interactive table.\"\n",
              "              style=\"display:none;\">\n",
              "        \n",
              "  <svg xmlns=\"http://www.w3.org/2000/svg\" height=\"24px\"viewBox=\"0 0 24 24\"\n",
              "       width=\"24px\">\n",
              "    <path d=\"M0 0h24v24H0V0z\" fill=\"none\"/>\n",
              "    <path d=\"M18.56 5.44l.94 2.06.94-2.06 2.06-.94-2.06-.94-.94-2.06-.94 2.06-2.06.94zm-11 1L8.5 8.5l.94-2.06 2.06-.94-2.06-.94L8.5 2.5l-.94 2.06-2.06.94zm10 10l.94 2.06.94-2.06 2.06-.94-2.06-.94-.94-2.06-.94 2.06-2.06.94z\"/><path d=\"M17.41 7.96l-1.37-1.37c-.4-.4-.92-.59-1.43-.59-.52 0-1.04.2-1.43.59L10.3 9.45l-7.72 7.72c-.78.78-.78 2.05 0 2.83L4 21.41c.39.39.9.59 1.41.59.51 0 1.02-.2 1.41-.59l7.78-7.78 2.81-2.81c.8-.78.8-2.07 0-2.86zM5.41 20L4 18.59l7.72-7.72 1.47 1.35L5.41 20z\"/>\n",
              "  </svg>\n",
              "      </button>\n",
              "      \n",
              "  <style>\n",
              "    .colab-df-container {\n",
              "      display:flex;\n",
              "      flex-wrap:wrap;\n",
              "      gap: 12px;\n",
              "    }\n",
              "\n",
              "    .colab-df-convert {\n",
              "      background-color: #E8F0FE;\n",
              "      border: none;\n",
              "      border-radius: 50%;\n",
              "      cursor: pointer;\n",
              "      display: none;\n",
              "      fill: #1967D2;\n",
              "      height: 32px;\n",
              "      padding: 0 0 0 0;\n",
              "      width: 32px;\n",
              "    }\n",
              "\n",
              "    .colab-df-convert:hover {\n",
              "      background-color: #E2EBFA;\n",
              "      box-shadow: 0px 1px 2px rgba(60, 64, 67, 0.3), 0px 1px 3px 1px rgba(60, 64, 67, 0.15);\n",
              "      fill: #174EA6;\n",
              "    }\n",
              "\n",
              "    [theme=dark] .colab-df-convert {\n",
              "      background-color: #3B4455;\n",
              "      fill: #D2E3FC;\n",
              "    }\n",
              "\n",
              "    [theme=dark] .colab-df-convert:hover {\n",
              "      background-color: #434B5C;\n",
              "      box-shadow: 0px 1px 3px 1px rgba(0, 0, 0, 0.15);\n",
              "      filter: drop-shadow(0px 1px 2px rgba(0, 0, 0, 0.3));\n",
              "      fill: #FFFFFF;\n",
              "    }\n",
              "  </style>\n",
              "\n",
              "      <script>\n",
              "        const buttonEl =\n",
              "          document.querySelector('#df-602425ba-bb2a-4479-a3fd-ec2e55e98743 button.colab-df-convert');\n",
              "        buttonEl.style.display =\n",
              "          google.colab.kernel.accessAllowed ? 'block' : 'none';\n",
              "\n",
              "        async function convertToInteractive(key) {\n",
              "          const element = document.querySelector('#df-602425ba-bb2a-4479-a3fd-ec2e55e98743');\n",
              "          const dataTable =\n",
              "            await google.colab.kernel.invokeFunction('convertToInteractive',\n",
              "                                                     [key], {});\n",
              "          if (!dataTable) return;\n",
              "\n",
              "          const docLinkHtml = 'Like what you see? Visit the ' +\n",
              "            '<a target=\"_blank\" href=https://colab.research.google.com/notebooks/data_table.ipynb>data table notebook</a>'\n",
              "            + ' to learn more about interactive tables.';\n",
              "          element.innerHTML = '';\n",
              "          dataTable['output_type'] = 'display_data';\n",
              "          await google.colab.output.renderOutput(dataTable, element);\n",
              "          const docLink = document.createElement('div');\n",
              "          docLink.innerHTML = docLinkHtml;\n",
              "          element.appendChild(docLink);\n",
              "        }\n",
              "      </script>\n",
              "    </div>\n",
              "  </div>\n",
              "  "
            ]
          },
          "metadata": {},
          "execution_count": 108
        }
      ]
    },
    {
      "cell_type": "markdown",
      "source": [
        "# EDA"
      ],
      "metadata": {
        "id": "oYgFcO9xe8Q9"
      }
    },
    {
      "cell_type": "code",
      "source": [
        "with open('/gdrive/MyDrive/Datasets/Carvana/Carvana_Data_Dictionary.txt') as file:\n",
        "  print(file.read())"
      ],
      "metadata": {
        "colab": {
          "base_uri": "https://localhost:8080/"
        },
        "id": "eWosphg6mWLg",
        "outputId": "ebe99c5d-00ac-4be7-8cc9-400e88f788dd"
      },
      "execution_count": 109,
      "outputs": [
        {
          "output_type": "stream",
          "name": "stdout",
          "text": [
            "Field Name\t\t\t\tDefinition\n",
            "RefID\t\t\t\t        Unique (sequential) number assigned to vehicles\n",
            "IsBadBuy\t\t\t\tIdentifies if the kicked vehicle was an avoidable purchase \n",
            "PurchDate\t\t\t\tThe Date the vehicle was Purchased at Auction\n",
            "Auction\t\t\t\t\tAuction provider at which the  vehicle was purchased\n",
            "VehYear\t\t\t\t\tThe manufacturer's year of the vehicle\n",
            "VehicleAge\t\t\t\tThe Years elapsed since the manufacturer's year\n",
            "Make\t\t\t\t\tVehicle Manufacturer \n",
            "Model\t\t\t\t\tVehicle Model\n",
            "Trim\t\t\t\t\tVehicle Trim Level\n",
            "SubModel\t\t\t\tVehicle Submodel\n",
            "Color\t\t\t\t\tVehicle Color\n",
            "Transmission\t\t\t\tVehicles transmission type (Automatic, Manual)\n",
            "WheelTypeID\t\t\t\tThe type id of the vehicle wheel\n",
            "WheelType\t\t\t\tThe vehicle wheel type description (Alloy, Covers)\n",
            "VehOdo\t\t\t\t\tThe vehicles odometer reading\n",
            "Nationality\t\t\t\tThe Manufacturer's country\n",
            "Size\t\t\t\t\tThe size category of the vehicle (Compact, SUV, etc.)\n",
            "TopThreeAmericanName\t\t\tIdentifies if the manufacturer is one of the top three American manufacturers\n",
            "MMRAcquisitionAuctionAveragePrice\tAcquisition price for this vehicle in average condition at time of purchase\t\n",
            "MMRAcquisitionAuctionCleanPrice\t\tAcquisition price for this vehicle in the above Average condition at time of purchase\n",
            "MMRAcquisitionRetailAveragePrice\tAcquisition price for this vehicle in the retail market in average condition at time of purchase\n",
            "MMRAcquisitonRetailCleanPrice\t\tAcquisition price for this vehicle in the retail market in above average condition at time of purchase\n",
            "MMRCurrentAuctionAveragePrice\t\tAcquisition price for this vehicle in average condition as of current day\t\n",
            "MMRCurrentAuctionCleanPrice\t\tAcquisition price for this vehicle in the above condition as of current day\n",
            "MMRCurrentRetailAveragePrice\t\tAcquisition price for this vehicle in the retail market in average condition as of current day\n",
            "MMRCurrentRetailCleanPrice\t\tAcquisition price for this vehicle in the retail market in above average condition as of current day\n",
            "PRIMEUNIT\t\t\t\tIdentifies if the vehicle would have a higher demand than a standard purchase\n",
            "AcquisitionType\t\t\t\tIdentifies how the vehicle was aquired (Auction buy, trade in, etc)\n",
            "AUCGUART\t\t\t\tThe level guarntee provided by auction for the vehicle (Green light - Guaranteed/arbitratable, Yellow Light - caution/issue, red light - sold as is)\n",
            "KickDate\t\t\t\tDate the vehicle was kicked back to the auction\n",
            "BYRNO\t\t\t\t\tUnique number assigned to the buyer that purchased the vehicle\n",
            "VNZIP                                   Zipcode where the car was purchased\n",
            "VNST                                    State where the the car was purchased\n",
            "VehBCost\t\t\t\tAcquisition cost paid for the vehicle at time of purchase\n",
            "IsOnlineSale\t\t\t\tIdentifies if the vehicle was originally purchased online\n",
            "WarrantyCost                            Warranty price (term=36month  and millage=36K) \n",
            "\n",
            "\n"
          ]
        }
      ]
    },
    {
      "cell_type": "code",
      "source": [
        "train.info()"
      ],
      "metadata": {
        "colab": {
          "base_uri": "https://localhost:8080/"
        },
        "id": "vexQDDhPke1v",
        "outputId": "d8251f33-5074-4eef-8ef3-01153fadb2ea"
      },
      "execution_count": 74,
      "outputs": [
        {
          "output_type": "stream",
          "name": "stdout",
          "text": [
            "<class 'pandas.core.frame.DataFrame'>\n",
            "RangeIndex: 72983 entries, 0 to 72982\n",
            "Data columns (total 34 columns):\n",
            " #   Column                             Non-Null Count  Dtype  \n",
            "---  ------                             --------------  -----  \n",
            " 0   RefId                              72983 non-null  int64  \n",
            " 1   IsBadBuy                           72983 non-null  int64  \n",
            " 2   PurchDate                          72983 non-null  object \n",
            " 3   Auction                            72983 non-null  object \n",
            " 4   VehYear                            72983 non-null  int64  \n",
            " 5   VehicleAge                         72983 non-null  int64  \n",
            " 6   Make                               72983 non-null  object \n",
            " 7   Model                              72983 non-null  object \n",
            " 8   Trim                               70623 non-null  object \n",
            " 9   SubModel                           72975 non-null  object \n",
            " 10  Color                              72975 non-null  object \n",
            " 11  Transmission                       72974 non-null  object \n",
            " 12  WheelTypeID                        69814 non-null  float64\n",
            " 13  WheelType                          69809 non-null  object \n",
            " 14  VehOdo                             72983 non-null  int64  \n",
            " 15  Nationality                        72978 non-null  object \n",
            " 16  Size                               72978 non-null  object \n",
            " 17  TopThreeAmericanName               72978 non-null  object \n",
            " 18  MMRAcquisitionAuctionAveragePrice  72965 non-null  float64\n",
            " 19  MMRAcquisitionAuctionCleanPrice    72965 non-null  float64\n",
            " 20  MMRAcquisitionRetailAveragePrice   72965 non-null  float64\n",
            " 21  MMRAcquisitonRetailCleanPrice      72965 non-null  float64\n",
            " 22  MMRCurrentAuctionAveragePrice      72668 non-null  float64\n",
            " 23  MMRCurrentAuctionCleanPrice        72668 non-null  float64\n",
            " 24  MMRCurrentRetailAveragePrice       72668 non-null  float64\n",
            " 25  MMRCurrentRetailCleanPrice         72668 non-null  float64\n",
            " 26  PRIMEUNIT                          3419 non-null   object \n",
            " 27  AUCGUART                           3419 non-null   object \n",
            " 28  BYRNO                              72983 non-null  int64  \n",
            " 29  VNZIP1                             72983 non-null  int64  \n",
            " 30  VNST                               72983 non-null  object \n",
            " 31  VehBCost                           72983 non-null  float64\n",
            " 32  IsOnlineSale                       72983 non-null  int64  \n",
            " 33  WarrantyCost                       72983 non-null  int64  \n",
            "dtypes: float64(10), int64(9), object(15)\n",
            "memory usage: 18.9+ MB\n"
          ]
        }
      ]
    },
    {
      "cell_type": "code",
      "source": [
        "numerical_features = train.select_dtypes(include = ['float64', 'int64']).columns.drop('RefId')\n",
        "categorical_features = train.select_dtypes(include = ['object']).columns"
      ],
      "metadata": {
        "id": "Nqj6TpWJe9Va"
      },
      "execution_count": 110,
      "outputs": []
    },
    {
      "cell_type": "code",
      "source": [
        "# Can create a heatmap to discover which numerical features have high collinearity - then remove those variables\n",
        "numerical_features"
      ],
      "metadata": {
        "colab": {
          "base_uri": "https://localhost:8080/"
        },
        "id": "X_Fv_6bvfcVZ",
        "outputId": "0ef89fb7-df7d-4a05-fdb8-9fab871c0dc6"
      },
      "execution_count": 111,
      "outputs": [
        {
          "output_type": "execute_result",
          "data": {
            "text/plain": [
              "Index(['IsBadBuy', 'VehYear', 'VehicleAge', 'WheelTypeID', 'VehOdo',\n",
              "       'MMRAcquisitionAuctionAveragePrice', 'MMRAcquisitionAuctionCleanPrice',\n",
              "       'MMRAcquisitionRetailAveragePrice', 'MMRAcquisitonRetailCleanPrice',\n",
              "       'MMRCurrentAuctionAveragePrice', 'MMRCurrentAuctionCleanPrice',\n",
              "       'MMRCurrentRetailAveragePrice', 'MMRCurrentRetailCleanPrice', 'BYRNO',\n",
              "       'VNZIP1', 'VehBCost', 'IsOnlineSale', 'WarrantyCost'],\n",
              "      dtype='object')"
            ]
          },
          "metadata": {},
          "execution_count": 111
        }
      ]
    },
    {
      "cell_type": "code",
      "source": [
        "train[numerical_features].hist(figsize=(25,15), bins=20)"
      ],
      "metadata": {
        "colab": {
          "base_uri": "https://localhost:8080/",
          "height": 1000
        },
        "id": "bUuv8P7YlUmA",
        "outputId": "14e4ee98-7c6b-4369-9af2-0d2d2811a65f"
      },
      "execution_count": 49,
      "outputs": [
        {
          "output_type": "execute_result",
          "data": {
            "text/plain": [
              "array([[<matplotlib.axes._subplots.AxesSubplot object at 0x7ff0d4b367f0>,\n",
              "        <matplotlib.axes._subplots.AxesSubplot object at 0x7ff0ce98ea60>,\n",
              "        <matplotlib.axes._subplots.AxesSubplot object at 0x7ff0ceab21f0>,\n",
              "        <matplotlib.axes._subplots.AxesSubplot object at 0x7ff0ce916910>],\n",
              "       [<matplotlib.axes._subplots.AxesSubplot object at 0x7ff0ce93f0d0>,\n",
              "        <matplotlib.axes._subplots.AxesSubplot object at 0x7ff0ce8f36d0>,\n",
              "        <matplotlib.axes._subplots.AxesSubplot object at 0x7ff0ce8f37c0>,\n",
              "        <matplotlib.axes._subplots.AxesSubplot object at 0x7ff0ce89df40>],\n",
              "       [<matplotlib.axes._subplots.AxesSubplot object at 0x7ff0ce87fd30>,\n",
              "        <matplotlib.axes._subplots.AxesSubplot object at 0x7ff0ce835490>,\n",
              "        <matplotlib.axes._subplots.AxesSubplot object at 0x7ff0ce7dfbb0>,\n",
              "        <matplotlib.axes._subplots.AxesSubplot object at 0x7ff0ce796310>],\n",
              "       [<matplotlib.axes._subplots.AxesSubplot object at 0x7ff0ce7c0a30>,\n",
              "        <matplotlib.axes._subplots.AxesSubplot object at 0x7ff0ce778190>,\n",
              "        <matplotlib.axes._subplots.AxesSubplot object at 0x7ff0ce7238b0>,\n",
              "        <matplotlib.axes._subplots.AxesSubplot object at 0x7ff0ce74dfd0>],\n",
              "       [<matplotlib.axes._subplots.AxesSubplot object at 0x7ff0ce705730>,\n",
              "        <matplotlib.axes._subplots.AxesSubplot object at 0x7ff0ce6ade80>,\n",
              "        <matplotlib.axes._subplots.AxesSubplot object at 0x7ff0ce665520>,\n",
              "        <matplotlib.axes._subplots.AxesSubplot object at 0x7ff0ce684df0>]],\n",
              "      dtype=object)"
            ]
          },
          "metadata": {},
          "execution_count": 49
        },
        {
          "output_type": "display_data",
          "data": {
            "text/plain": [
              "<Figure size 1800x1080 with 20 Axes>"
            ],
            "image/png": "[encoded data removed]"
          },
          "metadata": {
            "needs_background": "light"
          }
        }
      ]
    },
    {
      "cell_type": "code",
      "source": [
        "plt.figure(figsize=(30,10))\n",
        "sns.heatmap(train[numerical_features].corr(), annot=True, annot_kws={\"size\":7}, cmap='coolwarm')"
      ],
      "metadata": {
        "colab": {
          "base_uri": "https://localhost:8080/",
          "height": 806
        },
        "id": "2WN0TufkfrRP",
        "outputId": "3b9cb94a-9e21-4500-b685-2d926e3eb61f"
      },
      "execution_count": 78,
      "outputs": [
        {
          "output_type": "execute_result",
          "data": {
            "text/plain": [
              "<matplotlib.axes._subplots.AxesSubplot at 0x7ff0d44edc40>"
            ]
          },
          "metadata": {},
          "execution_count": 78
        },
        {
          "output_type": "display_data",
          "data": {
            "text/plain": [
              "<Figure size 2160x720 with 2 Axes>"
            ],
            "image/png": "[encoded data removed]"
          },
          "metadata": {
            "needs_background": "light"
          }
        }
      ]
    },
    {
      "cell_type": "markdown",
      "source": [
        "High multicollinearity within MMRAcquisitionAuctionAveragePrice and the following:\n",
        "\n",
        "'MMRAcquisitionAuctionCleanPrice',\n",
        "       'MMRAcquisitionRetailAveragePrice', 'MMRAcquisitonRetailCleanPrice',\n",
        "       'MMRCurrentAuctionAveragePrice', 'MMRCurrentAuctionCleanPrice',\n",
        "       'MMRCurrentRetailAveragePrice', 'MMRCurrentRetailCleanPrice', 'VehBCost'\n",
        "\n",
        "Should remove these variables^\n"
      ],
      "metadata": {
        "id": "0fgu68VojXnm"
      }
    },
    {
      "cell_type": "code",
      "source": [
        "categorical_features"
      ],
      "metadata": {
        "colab": {
          "base_uri": "https://localhost:8080/"
        },
        "id": "HjirTWX5kSLU",
        "outputId": "daedcd41-bfa4-41d6-f5f2-9fbd1375e23a"
      },
      "execution_count": 79,
      "outputs": [
        {
          "output_type": "execute_result",
          "data": {
            "text/plain": [
              "Index(['PurchDate', 'Auction', 'Make', 'Model', 'Trim', 'SubModel', 'Color',\n",
              "       'Transmission', 'WheelType', 'Nationality', 'Size',\n",
              "       'TopThreeAmericanName', 'PRIMEUNIT', 'AUCGUART', 'VNST'],\n",
              "      dtype='object')"
            ]
          },
          "metadata": {},
          "execution_count": 79
        }
      ]
    },
    {
      "cell_type": "code",
      "source": [
        "train[categorical_features].describe()"
      ],
      "metadata": {
        "colab": {
          "base_uri": "https://localhost:8080/",
          "height": 175
        },
        "id": "wWQa49riktT-",
        "outputId": "b5e75782-b65d-4ec3-872d-6d81797e0150"
      },
      "execution_count": 80,
      "outputs": [
        {
          "output_type": "execute_result",
          "data": {
            "text/plain": [
              "         PurchDate  Auction       Make       Model   Trim  SubModel   Color  \\\n",
              "count        72983    72983      72983       72983  70623     72975   72975   \n",
              "unique         517        3         33        1063    134       863      16   \n",
              "top     11/23/2010  MANHEIM  CHEVROLET  PT CRUISER    Bas  4D SEDAN  SILVER   \n",
              "freq           384    41043      17248        2329  13950     15236   14875   \n",
              "\n",
              "       Transmission WheelType Nationality    Size TopThreeAmericanName  \\\n",
              "count         72974     69809       72978   72978                72978   \n",
              "unique            3         3           4      12                    4   \n",
              "top            AUTO     Alloy    AMERICAN  MEDIUM                   GM   \n",
              "freq          70398     36050       61028   30785                25314   \n",
              "\n",
              "       PRIMEUNIT AUCGUART   VNST  \n",
              "count       3419     3419  72983  \n",
              "unique         2        2     37  \n",
              "top           NO    GREEN     TX  \n",
              "freq        3357     3340  13596  "
            ],
            "text/html": [
              "\n",
              "  <div id=\"df-9edf03a1-423c-4f1c-b53b-b9c922b77c78\">\n",
              "    <div class=\"colab-df-container\">\n",
              "      <div>\n",
              "<style scoped>\n",
              "    .dataframe tbody tr th:only-of-type {\n",
              "        vertical-align: middle;\n",
              "    }\n",
              "\n",
              "    .dataframe tbody tr th {\n",
              "        vertical-align: top;\n",
              "    }\n",
              "\n",
              "    .dataframe thead th {\n",
              "        text-align: right;\n",
              "    }\n",
              "</style>\n",
              "<table border=\"1\" class=\"dataframe\">\n",
              "  <thead>\n",
              "    <tr style=\"text-align: right;\">\n",
              "      <th></th>\n",
              "      <th>PurchDate</th>\n",
              "      <th>Auction</th>\n",
              "      <th>Make</th>\n",
              "      <th>Model</th>\n",
              "      <th>Trim</th>\n",
              "      <th>SubModel</th>\n",
              "      <th>Color</th>\n",
              "      <th>Transmission</th>\n",
              "      <th>WheelType</th>\n",
              "      <th>Nationality</th>\n",
              "      <th>Size</th>\n",
              "      <th>TopThreeAmericanName</th>\n",
              "      <th>PRIMEUNIT</th>\n",
              "      <th>AUCGUART</th>\n",
              "      <th>VNST</th>\n",
              "    </tr>\n",
              "  </thead>\n",
              "  <tbody>\n",
              "    <tr>\n",
              "      <th>count</th>\n",
              "      <td>72983</td>\n",
              "      <td>72983</td>\n",
              "      <td>72983</td>\n",
              "      <td>72983</td>\n",
              "      <td>70623</td>\n",
              "      <td>72975</td>\n",
              "      <td>72975</td>\n",
              "      <td>72974</td>\n",
              "      <td>69809</td>\n",
              "      <td>72978</td>\n",
              "      <td>72978</td>\n",
              "      <td>72978</td>\n",
              "      <td>3419</td>\n",
              "      <td>3419</td>\n",
              "      <td>72983</td>\n",
              "    </tr>\n",
              "    <tr>\n",
              "      <th>unique</th>\n",
              "      <td>517</td>\n",
              "      <td>3</td>\n",
              "      <td>33</td>\n",
              "      <td>1063</td>\n",
              "      <td>134</td>\n",
              "      <td>863</td>\n",
              "      <td>16</td>\n",
              "      <td>3</td>\n",
              "      <td>3</td>\n",
              "      <td>4</td>\n",
              "      <td>12</td>\n",
              "      <td>4</td>\n",
              "      <td>2</td>\n",
              "      <td>2</td>\n",
              "      <td>37</td>\n",
              "    </tr>\n",
              "    <tr>\n",
              "      <th>top</th>\n",
              "      <td>11/23/2010</td>\n",
              "      <td>MANHEIM</td>\n",
              "      <td>CHEVROLET</td>\n",
              "      <td>PT CRUISER</td>\n",
              "      <td>Bas</td>\n",
              "      <td>4D SEDAN</td>\n",
              "      <td>SILVER</td>\n",
              "      <td>AUTO</td>\n",
              "      <td>Alloy</td>\n",
              "      <td>AMERICAN</td>\n",
              "      <td>MEDIUM</td>\n",
              "      <td>GM</td>\n",
              "      <td>NO</td>\n",
              "      <td>GREEN</td>\n",
              "      <td>TX</td>\n",
              "    </tr>\n",
              "    <tr>\n",
              "      <th>freq</th>\n",
              "      <td>384</td>\n",
              "      <td>41043</td>\n",
              "      <td>17248</td>\n",
              "      <td>2329</td>\n",
              "      <td>13950</td>\n",
              "      <td>15236</td>\n",
              "      <td>14875</td>\n",
              "      <td>70398</td>\n",
              "      <td>36050</td>\n",
              "      <td>61028</td>\n",
              "      <td>30785</td>\n",
              "      <td>25314</td>\n",
              "      <td>3357</td>\n",
              "      <td>3340</td>\n",
              "      <td>13596</td>\n",
              "    </tr>\n",
              "  </tbody>\n",
              "</table>\n",
              "</div>\n",
              "      <button class=\"colab-df-convert\" onclick=\"convertToInteractive('df-9edf03a1-423c-4f1c-b53b-b9c922b77c78')\"\n",
              "              title=\"Convert this dataframe to an interactive table.\"\n",
              "              style=\"display:none;\">\n",
              "        \n",
              "  <svg xmlns=\"http://www.w3.org/2000/svg\" height=\"24px\"viewBox=\"0 0 24 24\"\n",
              "       width=\"24px\">\n",
              "    <path d=\"M0 0h24v24H0V0z\" fill=\"none\"/>\n",
              "    <path d=\"M18.56 5.44l.94 2.06.94-2.06 2.06-.94-2.06-.94-.94-2.06-.94 2.06-2.06.94zm-11 1L8.5 8.5l.94-2.06 2.06-.94-2.06-.94L8.5 2.5l-.94 2.06-2.06.94zm10 10l.94 2.06.94-2.06 2.06-.94-2.06-.94-.94-2.06-.94 2.06-2.06.94z\"/><path d=\"M17.41 7.96l-1.37-1.37c-.4-.4-.92-.59-1.43-.59-.52 0-1.04.2-1.43.59L10.3 9.45l-7.72 7.72c-.78.78-.78 2.05 0 2.83L4 21.41c.39.39.9.59 1.41.59.51 0 1.02-.2 1.41-.59l7.78-7.78 2.81-2.81c.8-.78.8-2.07 0-2.86zM5.41 20L4 18.59l7.72-7.72 1.47 1.35L5.41 20z\"/>\n",
              "  </svg>\n",
              "      </button>\n",
              "      \n",
              "  <style>\n",
              "    .colab-df-container {\n",
              "      display:flex;\n",
              "      flex-wrap:wrap;\n",
              "      gap: 12px;\n",
              "    }\n",
              "\n",
              "    .colab-df-convert {\n",
              "      background-color: #E8F0FE;\n",
              "      border: none;\n",
              "      border-radius: 50%;\n",
              "      cursor: pointer;\n",
              "      display: none;\n",
              "      fill: #1967D2;\n",
              "      height: 32px;\n",
              "      padding: 0 0 0 0;\n",
              "      width: 32px;\n",
              "    }\n",
              "\n",
              "    .colab-df-convert:hover {\n",
              "      background-color: #E2EBFA;\n",
              "      box-shadow: 0px 1px 2px rgba(60, 64, 67, 0.3), 0px 1px 3px 1px rgba(60, 64, 67, 0.15);\n",
              "      fill: #174EA6;\n",
              "    }\n",
              "\n",
              "    [theme=dark] .colab-df-convert {\n",
              "      background-color: #3B4455;\n",
              "      fill: #D2E3FC;\n",
              "    }\n",
              "\n",
              "    [theme=dark] .colab-df-convert:hover {\n",
              "      background-color: #434B5C;\n",
              "      box-shadow: 0px 1px 3px 1px rgba(0, 0, 0, 0.15);\n",
              "      filter: drop-shadow(0px 1px 2px rgba(0, 0, 0, 0.3));\n",
              "      fill: #FFFFFF;\n",
              "    }\n",
              "  </style>\n",
              "\n",
              "      <script>\n",
              "        const buttonEl =\n",
              "          document.querySelector('#df-9edf03a1-423c-4f1c-b53b-b9c922b77c78 button.colab-df-convert');\n",
              "        buttonEl.style.display =\n",
              "          google.colab.kernel.accessAllowed ? 'block' : 'none';\n",
              "\n",
              "        async function convertToInteractive(key) {\n",
              "          const element = document.querySelector('#df-9edf03a1-423c-4f1c-b53b-b9c922b77c78');\n",
              "          const dataTable =\n",
              "            await google.colab.kernel.invokeFunction('convertToInteractive',\n",
              "                                                     [key], {});\n",
              "          if (!dataTable) return;\n",
              "\n",
              "          const docLinkHtml = 'Like what you see? Visit the ' +\n",
              "            '<a target=\"_blank\" href=https://colab.research.google.com/notebooks/data_table.ipynb>data table notebook</a>'\n",
              "            + ' to learn more about interactive tables.';\n",
              "          element.innerHTML = '';\n",
              "          dataTable['output_type'] = 'display_data';\n",
              "          await google.colab.output.renderOutput(dataTable, element);\n",
              "          const docLink = document.createElement('div');\n",
              "          docLink.innerHTML = docLinkHtml;\n",
              "          element.appendChild(docLink);\n",
              "        }\n",
              "      </script>\n",
              "    </div>\n",
              "  </div>\n",
              "  "
            ]
          },
          "metadata": {},
          "execution_count": 80
        }
      ]
    },
    {
      "cell_type": "markdown",
      "source": [
        "Variables with lots of unique values (I like to cap at 20 for dummy variables):\n",
        "'PurchDate', 'Make', 'Model', 'Trim', 'SubModel', 'VNST'\n",
        "But, could transform Purchdate into sin/cos for cyclality"
      ],
      "metadata": {
        "id": "PsQe4WlVoD6v"
      }
    },
    {
      "cell_type": "markdown",
      "source": [
        "# Variable Selection"
      ],
      "metadata": {
        "id": "5WYXu24vqN7v"
      }
    },
    {
      "cell_type": "code",
      "source": [
        "redundant = ['RefId', 'BYRNO']\n",
        "lots_of_cats = ['Make', 'Model', 'Trim', 'SubModel', 'VNST']\n",
        "high_corr = ['MMRAcquisitionAuctionCleanPrice', 'MMRAcquisitionRetailAveragePrice', 'MMRAcquisitonRetailCleanPrice', 'MMRCurrentAuctionAveragePrice', 'MMRCurrentAuctionCleanPrice', 'MMRCurrentRetailAveragePrice', 'MMRCurrentRetailCleanPrice', 'VehBCost']"
      ],
      "metadata": {
        "id": "9qPv7xZ9oreR"
      },
      "execution_count": 112,
      "outputs": []
    },
    {
      "cell_type": "code",
      "source": [
        "# train\n",
        "train['Month_sin'] = np.sin(2*np.pi*pd.DatetimeIndex(train['PurchDate']).month/12)\n",
        "train['Month_cos'] = np.cos(2*np.pi*pd.DatetimeIndex(train['PurchDate']).month/12)\n",
        "train['Day_sin'] = np.sin(2*np.pi*pd.DatetimeIndex(train['PurchDate']).day/31)\n",
        "train['Day_cos'] = np.cos(2*np.pi*pd.DatetimeIndex(train['PurchDate']).day/31)\n",
        "# test\n",
        "test['Month_sin'] = np.sin(2*np.pi*pd.DatetimeIndex(test['PurchDate']).month/12)\n",
        "test['Month_cos'] = np.cos(2*np.pi*pd.DatetimeIndex(test['PurchDate']).month/12)\n",
        "test['Day_sin'] = np.sin(2*np.pi*pd.DatetimeIndex(test['PurchDate']).day/31)\n",
        "test['Day_cos'] = np.cos(2*np.pi*pd.DatetimeIndex(test['PurchDate']).day/31)"
      ],
      "metadata": {
        "id": "Y4176AUXLQe8"
      },
      "execution_count": 113,
      "outputs": []
    },
    {
      "cell_type": "code",
      "source": [
        "col_drop = redundant + lots_of_cats + high_corr + ['PurchDate']\n",
        "print(col_drop)"
      ],
      "metadata": {
        "colab": {
          "base_uri": "https://localhost:8080/"
        },
        "id": "R-9NwfjSsdYk",
        "outputId": "c9f407f9-f92c-4ff4-a0af-bc4736156586"
      },
      "execution_count": 114,
      "outputs": [
        {
          "output_type": "stream",
          "name": "stdout",
          "text": [
            "['RefId', 'BYRNO', 'Make', 'Model', 'Trim', 'SubModel', 'VNST', 'MMRAcquisitionAuctionCleanPrice', 'MMRAcquisitionRetailAveragePrice', 'MMRAcquisitonRetailCleanPrice', 'MMRCurrentAuctionAveragePrice', 'MMRCurrentAuctionCleanPrice', 'MMRCurrentRetailAveragePrice', 'MMRCurrentRetailCleanPrice', 'VehBCost', 'PurchDate']\n"
          ]
        }
      ]
    },
    {
      "cell_type": "code",
      "source": [
        "train.drop(col_drop, inplace=True, axis=1)\n",
        "test.drop(col_drop, inplace=True, axis=1)"
      ],
      "metadata": {
        "id": "S9w6589ppsTR"
      },
      "execution_count": 115,
      "outputs": []
    },
    {
      "cell_type": "code",
      "source": [
        "train.info()"
      ],
      "metadata": {
        "colab": {
          "base_uri": "https://localhost:8080/"
        },
        "id": "TFiwnQakspp4",
        "outputId": "10f58e3f-7646-4e06-b678-08a5218780b7"
      },
      "execution_count": 85,
      "outputs": [
        {
          "output_type": "stream",
          "name": "stdout",
          "text": [
            "<class 'pandas.core.frame.DataFrame'>\n",
            "RangeIndex: 72983 entries, 0 to 72982\n",
            "Data columns (total 22 columns):\n",
            " #   Column                             Non-Null Count  Dtype  \n",
            "---  ------                             --------------  -----  \n",
            " 0   IsBadBuy                           72983 non-null  int64  \n",
            " 1   Auction                            72983 non-null  object \n",
            " 2   VehYear                            72983 non-null  int64  \n",
            " 3   VehicleAge                         72983 non-null  int64  \n",
            " 4   Color                              72975 non-null  object \n",
            " 5   Transmission                       72974 non-null  object \n",
            " 6   WheelTypeID                        69814 non-null  float64\n",
            " 7   WheelType                          69809 non-null  object \n",
            " 8   VehOdo                             72983 non-null  int64  \n",
            " 9   Nationality                        72978 non-null  object \n",
            " 10  Size                               72978 non-null  object \n",
            " 11  TopThreeAmericanName               72978 non-null  object \n",
            " 12  MMRAcquisitionAuctionAveragePrice  72965 non-null  float64\n",
            " 13  PRIMEUNIT                          3419 non-null   object \n",
            " 14  AUCGUART                           3419 non-null   object \n",
            " 15  VNZIP1                             72983 non-null  int64  \n",
            " 16  IsOnlineSale                       72983 non-null  int64  \n",
            " 17  WarrantyCost                       72983 non-null  int64  \n",
            " 18  Month_sin                          72983 non-null  float64\n",
            " 19  Month_cos                          72983 non-null  float64\n",
            " 20  Day_sin                            72983 non-null  float64\n",
            " 21  Day_cos                            72983 non-null  float64\n",
            "dtypes: float64(6), int64(7), object(9)\n",
            "memory usage: 12.3+ MB\n"
          ]
        }
      ]
    },
    {
      "cell_type": "code",
      "source": [
        "targets=train['IsBadBuy']\n",
        "train.drop('IsBadBuy', inplace=True, axis=1)"
      ],
      "metadata": {
        "id": "x8H_ziYCxRgv"
      },
      "execution_count": 90,
      "outputs": []
    },
    {
      "cell_type": "markdown",
      "source": [
        "# Missing Values"
      ],
      "metadata": {
        "id": "C9w7KR5Xuv-d"
      }
    },
    {
      "cell_type": "code",
      "source": [
        "print(\"Train\\n\", train.isnull().sum(), \"\\n---------------\\n\")\n",
        "print(\"Test\\n\", test.isnull().sum())"
      ],
      "metadata": {
        "colab": {
          "base_uri": "https://localhost:8080/"
        },
        "id": "rBeEoQKEux_d",
        "outputId": "408c90c6-984e-419f-d9b1-e87fef0c450d"
      },
      "execution_count": 86,
      "outputs": [
        {
          "output_type": "stream",
          "name": "stdout",
          "text": [
            "Train\n",
            " IsBadBuy                                 0\n",
            "Auction                                  0\n",
            "VehYear                                  0\n",
            "VehicleAge                               0\n",
            "Color                                    8\n",
            "Transmission                             9\n",
            "WheelTypeID                           3169\n",
            "WheelType                             3174\n",
            "VehOdo                                   0\n",
            "Nationality                              5\n",
            "Size                                     5\n",
            "TopThreeAmericanName                     5\n",
            "MMRAcquisitionAuctionAveragePrice       18\n",
            "PRIMEUNIT                            69564\n",
            "AUCGUART                             69564\n",
            "VNZIP1                                   0\n",
            "IsOnlineSale                             0\n",
            "WarrantyCost                             0\n",
            "Month_sin                                0\n",
            "Month_cos                                0\n",
            "Day_sin                                  0\n",
            "Day_cos                                  0\n",
            "dtype: int64 \n",
            "---------------\n",
            "\n",
            "Test\n",
            " Auction                                  0\n",
            "VehYear                                  0\n",
            "VehicleAge                               0\n",
            "Color                                    4\n",
            "Transmission                             3\n",
            "WheelTypeID                           2188\n",
            "WheelType                             2188\n",
            "VehOdo                                   0\n",
            "Nationality                              7\n",
            "Size                                     7\n",
            "TopThreeAmericanName                     7\n",
            "MMRAcquisitionAuctionAveragePrice       10\n",
            "PRIMEUNIT                            46191\n",
            "AUCGUART                             46191\n",
            "VNZIP1                                   0\n",
            "IsOnlineSale                             0\n",
            "WarrantyCost                             0\n",
            "Month_sin                                0\n",
            "Month_cos                                0\n",
            "Day_sin                                  0\n",
            "Day_cos                                  0\n",
            "dtype: int64\n"
          ]
        }
      ]
    },
    {
      "cell_type": "code",
      "source": [
        "numerical_features = train.select_dtypes(include = ['float64', 'int64']).columns\n",
        "categorical_features = train.select_dtypes(include = ['object']).columns"
      ],
      "metadata": {
        "id": "kWB68tUavnpz"
      },
      "execution_count": 91,
      "outputs": []
    },
    {
      "cell_type": "code",
      "source": [
        "from sklearn import impute\n",
        "# Replace numerical missing values with median value bc robust to outliers\n",
        "imputer = SimpleImputer(strategy='median')\n",
        "imputer.fit(train[numerical_features])\n",
        "train[numerical_features] = imputer.transform(train[numerical_features])\n",
        "test[numerical_features] = imputer.transform(test[numerical_features])"
      ],
      "metadata": {
        "id": "8A4TP_XOvxMK"
      },
      "execution_count": 92,
      "outputs": []
    },
    {
      "cell_type": "code",
      "source": [
        "# Add Unknown for missing values in categorical variables\n",
        "for i in categorical_features:\n",
        "  train[i].fillna('Unknown', inplace=True)\n",
        "  test[i].fillna('Unknown', inplace=True)"
      ],
      "metadata": {
        "id": "x17Q0_K9x092"
      },
      "execution_count": 93,
      "outputs": []
    },
    {
      "cell_type": "code",
      "source": [
        "# double check missing values\n",
        "print(\"Train\\n\", train.isnull().sum(), \"\\n---------------\\n\")\n",
        "print(\"Test\\n\", test.isnull().sum())"
      ],
      "metadata": {
        "colab": {
          "base_uri": "https://localhost:8080/"
        },
        "id": "eP1a7ZRyyKPD",
        "outputId": "576881e8-126b-46ca-91ad-ecdc96d08343"
      },
      "execution_count": 94,
      "outputs": [
        {
          "output_type": "stream",
          "name": "stdout",
          "text": [
            "Train\n",
            " Auction                              0\n",
            "VehYear                              0\n",
            "VehicleAge                           0\n",
            "Color                                0\n",
            "Transmission                         0\n",
            "WheelTypeID                          0\n",
            "WheelType                            0\n",
            "VehOdo                               0\n",
            "Nationality                          0\n",
            "Size                                 0\n",
            "TopThreeAmericanName                 0\n",
            "MMRAcquisitionAuctionAveragePrice    0\n",
            "PRIMEUNIT                            0\n",
            "AUCGUART                             0\n",
            "VNZIP1                               0\n",
            "IsOnlineSale                         0\n",
            "WarrantyCost                         0\n",
            "Month_sin                            0\n",
            "Month_cos                            0\n",
            "Day_sin                              0\n",
            "Day_cos                              0\n",
            "dtype: int64 \n",
            "---------------\n",
            "\n",
            "Test\n",
            " Auction                              0\n",
            "VehYear                              0\n",
            "VehicleAge                           0\n",
            "Color                                0\n",
            "Transmission                         0\n",
            "WheelTypeID                          0\n",
            "WheelType                            0\n",
            "VehOdo                               0\n",
            "Nationality                          0\n",
            "Size                                 0\n",
            "TopThreeAmericanName                 0\n",
            "MMRAcquisitionAuctionAveragePrice    0\n",
            "PRIMEUNIT                            0\n",
            "AUCGUART                             0\n",
            "VNZIP1                               0\n",
            "IsOnlineSale                         0\n",
            "WarrantyCost                         0\n",
            "Month_sin                            0\n",
            "Month_cos                            0\n",
            "Day_sin                              0\n",
            "Day_cos                              0\n",
            "dtype: int64\n"
          ]
        }
      ]
    },
    {
      "cell_type": "markdown",
      "source": [
        "# Normalize Numerical Data and Encode Categorical Data"
      ],
      "metadata": {
        "id": "icmFWnOOyQ7w"
      }
    },
    {
      "cell_type": "code",
      "source": [
        "# Normalization of Numerical Data\n",
        "scaler = MinMaxScaler()\n",
        "scaler.fit(train[numerical_features])\n",
        "train[numerical_features] = scaler.transform(train[numerical_features])\n",
        "test[numerical_features] = scaler.transform(test[numerical_features])"
      ],
      "metadata": {
        "id": "eDbzi4DhyQZX"
      },
      "execution_count": 95,
      "outputs": []
    },
    {
      "cell_type": "code",
      "source": [
        "# One-Hot Encoding of Categorical Data\n",
        "encoder = OneHotEncoder(sparse=False, handle_unknown='ignore')\n",
        "encoder.fit(train[categorical_features])\n",
        "encode_cols = list(encoder.get_feature_names(categorical_features))\n",
        "train[encode_cols] = encoder.transform(train[categorical_features])\n",
        "test[encode_cols] = encoder.transform(test[categorical_features])"
      ],
      "metadata": {
        "colab": {
          "base_uri": "https://localhost:8080/"
        },
        "id": "9G-nS6Xxy40m",
        "outputId": "945ecc6f-b771-46f3-a64f-282c013cff8d"
      },
      "execution_count": 96,
      "outputs": [
        {
          "output_type": "stream",
          "name": "stderr",
          "text": [
            "/usr/local/lib/python3.8/dist-packages/sklearn/utils/deprecation.py:87: FutureWarning: Function get_feature_names is deprecated; get_feature_names is deprecated in 1.0 and will be removed in 1.2. Please use get_feature_names_out instead.\n",
            "  warnings.warn(msg, category=FutureWarning)\n"
          ]
        }
      ]
    },
    {
      "cell_type": "code",
      "source": [
        "all_var = list(numerical_features) + encode_cols\n",
        "train = train[all_var]\n",
        "test = test[all_var]"
      ],
      "metadata": {
        "id": "p7Uqz2yw0gDx"
      },
      "execution_count": 97,
      "outputs": []
    },
    {
      "cell_type": "code",
      "source": [
        "test.info()"
      ],
      "metadata": {
        "colab": {
          "base_uri": "https://localhost:8080/"
        },
        "id": "z9keUQfp1J5O",
        "outputId": "2cdd388f-9cd0-4c2b-a8c7-2ff6e4213d49"
      },
      "execution_count": 67,
      "outputs": [
        {
          "output_type": "stream",
          "name": "stdout",
          "text": [
            "<class 'pandas.core.frame.DataFrame'>\n",
            "RangeIndex: 48707 entries, 0 to 48706\n",
            "Data columns (total 69 columns):\n",
            " #   Column                             Non-Null Count  Dtype  \n",
            "---  ------                             --------------  -----  \n",
            " 0   VehYear                            48707 non-null  float64\n",
            " 1   VehicleAge                         48707 non-null  float64\n",
            " 2   WheelTypeID                        48707 non-null  float64\n",
            " 3   VehOdo                             48707 non-null  float64\n",
            " 4   MMRAcquisitionAuctionAveragePrice  48707 non-null  float64\n",
            " 5   VNZIP1                             48707 non-null  float64\n",
            " 6   IsOnlineSale                       48707 non-null  float64\n",
            " 7   WarrantyCost                       48707 non-null  float64\n",
            " 8   Month_sin                          48707 non-null  float64\n",
            " 9   Month_cos                          48707 non-null  float64\n",
            " 10  Day_sin                            48707 non-null  float64\n",
            " 11  Day_cos                            48707 non-null  float64\n",
            " 12  Auction_ADESA                      48707 non-null  float64\n",
            " 13  Auction_MANHEIM                    48707 non-null  float64\n",
            " 14  Auction_OTHER                      48707 non-null  float64\n",
            " 15  Color_BEIGE                        48707 non-null  float64\n",
            " 16  Color_BLACK                        48707 non-null  float64\n",
            " 17  Color_BLUE                         48707 non-null  float64\n",
            " 18  Color_BROWN                        48707 non-null  float64\n",
            " 19  Color_GOLD                         48707 non-null  float64\n",
            " 20  Color_GREEN                        48707 non-null  float64\n",
            " 21  Color_GREY                         48707 non-null  float64\n",
            " 22  Color_MAROON                       48707 non-null  float64\n",
            " 23  Color_NOT AVAIL                    48707 non-null  float64\n",
            " 24  Color_ORANGE                       48707 non-null  float64\n",
            " 25  Color_OTHER                        48707 non-null  float64\n",
            " 26  Color_PURPLE                       48707 non-null  float64\n",
            " 27  Color_RED                          48707 non-null  float64\n",
            " 28  Color_SILVER                       48707 non-null  float64\n",
            " 29  Color_Unknown                      48707 non-null  float64\n",
            " 30  Color_WHITE                        48707 non-null  float64\n",
            " 31  Color_YELLOW                       48707 non-null  float64\n",
            " 32  Transmission_AUTO                  48707 non-null  float64\n",
            " 33  Transmission_MANUAL                48707 non-null  float64\n",
            " 34  Transmission_Manual                48707 non-null  float64\n",
            " 35  Transmission_Unknown               48707 non-null  float64\n",
            " 36  WheelType_Alloy                    48707 non-null  float64\n",
            " 37  WheelType_Covers                   48707 non-null  float64\n",
            " 38  WheelType_Special                  48707 non-null  float64\n",
            " 39  WheelType_Unknown                  48707 non-null  float64\n",
            " 40  Nationality_AMERICAN               48707 non-null  float64\n",
            " 41  Nationality_OTHER                  48707 non-null  float64\n",
            " 42  Nationality_OTHER ASIAN            48707 non-null  float64\n",
            " 43  Nationality_TOP LINE ASIAN         48707 non-null  float64\n",
            " 44  Nationality_Unknown                48707 non-null  float64\n",
            " 45  Size_COMPACT                       48707 non-null  float64\n",
            " 46  Size_CROSSOVER                     48707 non-null  float64\n",
            " 47  Size_LARGE                         48707 non-null  float64\n",
            " 48  Size_LARGE SUV                     48707 non-null  float64\n",
            " 49  Size_LARGE TRUCK                   48707 non-null  float64\n",
            " 50  Size_MEDIUM                        48707 non-null  float64\n",
            " 51  Size_MEDIUM SUV                    48707 non-null  float64\n",
            " 52  Size_SMALL SUV                     48707 non-null  float64\n",
            " 53  Size_SMALL TRUCK                   48707 non-null  float64\n",
            " 54  Size_SPECIALTY                     48707 non-null  float64\n",
            " 55  Size_SPORTS                        48707 non-null  float64\n",
            " 56  Size_Unknown                       48707 non-null  float64\n",
            " 57  Size_VAN                           48707 non-null  float64\n",
            " 58  TopThreeAmericanName_CHRYSLER      48707 non-null  float64\n",
            " 59  TopThreeAmericanName_FORD          48707 non-null  float64\n",
            " 60  TopThreeAmericanName_GM            48707 non-null  float64\n",
            " 61  TopThreeAmericanName_OTHER         48707 non-null  float64\n",
            " 62  TopThreeAmericanName_Unknown       48707 non-null  float64\n",
            " 63  PRIMEUNIT_NO                       48707 non-null  float64\n",
            " 64  PRIMEUNIT_Unknown                  48707 non-null  float64\n",
            " 65  PRIMEUNIT_YES                      48707 non-null  float64\n",
            " 66  AUCGUART_GREEN                     48707 non-null  float64\n",
            " 67  AUCGUART_RED                       48707 non-null  float64\n",
            " 68  AUCGUART_Unknown                   48707 non-null  float64\n",
            "dtypes: float64(69)\n",
            "memory usage: 25.6 MB\n"
          ]
        }
      ]
    },
    {
      "cell_type": "markdown",
      "source": [
        "# Modeling"
      ],
      "metadata": {
        "id": "K2GvPGrz1sZY"
      }
    },
    {
      "cell_type": "code",
      "source": [
        "X_train, X_test, y_train, y_test = train_test_split(train, targets, test_size=0.15, random_state=0)"
      ],
      "metadata": {
        "id": "kmCiLVHx1usJ"
      },
      "execution_count": 29,
      "outputs": []
    },
    {
      "cell_type": "code",
      "source": [
        "# Logistic Regression\n",
        "logreg = LogisticRegression()\n",
        "clf = logreg.fit(X_train, y_train)\n",
        "acc_train_log = round(logreg.score(X_train, y_train) * 100, 2)\n",
        "acc_test_log = round(logreg.score(X_test, y_test) * 100, 2)\n",
        "roc_test_log = round(roc_auc_score(y_test, clf.predict_proba(X_test)[:, 1]),3)\n",
        "print('logistic regression train accurary: ', acc_train_log)\n",
        "print('logistic regression test accurary: ', acc_test_log)\n",
        "print('logistic regression test ROC: ', roc_test_log)"
      ],
      "metadata": {
        "colab": {
          "base_uri": "https://localhost:8080/"
        },
        "id": "DrdgdBkp2Cwc",
        "outputId": "3e3a413a-145d-44ec-a89c-dd2e32956b9c"
      },
      "execution_count": 30,
      "outputs": [
        {
          "output_type": "stream",
          "name": "stdout",
          "text": [
            "logistic regression train accurary:  89.5\n",
            "logistic regression test accurary:  89.56\n",
            "logistic regression test ROC:  0.754\n"
          ]
        },
        {
          "output_type": "stream",
          "name": "stderr",
          "text": [
            "/usr/local/lib/python3.8/dist-packages/sklearn/linear_model/_logistic.py:814: ConvergenceWarning: lbfgs failed to converge (status=1):\n",
            "STOP: TOTAL NO. of ITERATIONS REACHED LIMIT.\n",
            "\n",
            "Increase the number of iterations (max_iter) or scale the data as shown in:\n",
            "    https://scikit-learn.org/stable/modules/preprocessing.html\n",
            "Please also refer to the documentation for alternative solver options:\n",
            "    https://scikit-learn.org/stable/modules/linear_model.html#logistic-regression\n",
            "  n_iter_i = _check_optimize_result(\n"
          ]
        }
      ]
    },
    {
      "cell_type": "code",
      "source": [
        "# Random Forest\n",
        "random_forest = RandomForestClassifier(n_estimators=100)\n",
        "clf = random_forest.fit(X_train, y_train)\n",
        "acc_train_random_forest = round(random_forest.score(X_train, y_train) * 100, 2)\n",
        "acc_test_random_forest = round(random_forest.score(X_test, y_test) * 100, 2)\n",
        "roc_test_random_forest = round(roc_auc_score(y_test, clf.predict_proba(X_test)[:, 1]),3)\n",
        "print('Random Forest train accurary: ', acc_train_random_forest)\n",
        "print('Random Forest test accurary: ', acc_test_random_forest)\n",
        "print('Random Fores test ROC: ', roc_test_random_forest)"
      ],
      "metadata": {
        "colab": {
          "base_uri": "https://localhost:8080/"
        },
        "id": "d116tA6f2r55",
        "outputId": "4f4b1e64-da54-419a-e604-512c06a6a7ca"
      },
      "execution_count": 32,
      "outputs": [
        {
          "output_type": "stream",
          "name": "stdout",
          "text": [
            "Random Forest train accurary:  100.0\n",
            "Random Forest test accurary:  90.11\n",
            "Random Fores test ROC:  0.757\n"
          ]
        }
      ]
    },
    {
      "cell_type": "code",
      "source": [
        "# XGBoost\n",
        "xgb = XGBClassifier()\n",
        "clr = xgb.fit(X_train, y_train)\n",
        "acc_train_xgb = round(xgb.score(X_train, y_train) * 100, 2)\n",
        "acc_test_xgb = round(logreg.score(X_test, y_test) * 100, 2)\n",
        "roc_test_xgb = round(roc_auc_score(y_test, clr.predict_proba(X_test)[:, 1]),3)\n",
        "print('xgb train accurary: ', acc_train_xgb)\n",
        "print('xgb test accurary: ', acc_test_xgb)\n",
        "print('xgb test ROC: ', roc_test_xgb)"
      ],
      "metadata": {
        "colab": {
          "base_uri": "https://localhost:8080/"
        },
        "id": "XOyC0__n26wZ",
        "outputId": "a5a8764b-0e85-4159-c358-eb14d32ae32d"
      },
      "execution_count": 33,
      "outputs": [
        {
          "output_type": "stream",
          "name": "stdout",
          "text": [
            "xgb train accurary:  90.03\n",
            "xgb test accurary:  89.56\n",
            "xgb test ROC:  0.767\n"
          ]
        }
      ]
    },
    {
      "cell_type": "code",
      "source": [
        "# LightGBM\n",
        "lgbm = LGBMClassifier()\n",
        "clr = lgbm.fit(X_train, y_train)\n",
        "acc_train_lgbm = round(lgbm.score(X_train, y_train) * 100, 2)\n",
        "acc_test_lgbm = round(lgbm.score(X_test, y_test) * 100, 2)\n",
        "roc_test_lgbm = round(roc_auc_score(y_test, clr.predict_proba(X_test)[:, 1]),3)\n",
        "print('lgbm train accurary: ', acc_train_lgbm)\n",
        "print('lgbm test accurary: ', acc_test_lgbm)\n",
        "print('lgbm test ROC: ', roc_test_lgbm)"
      ],
      "metadata": {
        "colab": {
          "base_uri": "https://localhost:8080/"
        },
        "id": "f_S7BTuR3XMn",
        "outputId": "7cdd3675-231a-4763-e715-82b6cb4e839d"
      },
      "execution_count": 34,
      "outputs": [
        {
          "output_type": "stream",
          "name": "stdout",
          "text": [
            "lgbm train accurary:  90.44\n",
            "lgbm test accurary:  90.4\n",
            "lgbm test ROC:  0.769\n"
          ]
        }
      ]
    },
    {
      "cell_type": "markdown",
      "source": [
        "# Predict with Best Model - LGBM"
      ],
      "metadata": {
        "id": "kIGmMEN53mID"
      }
    },
    {
      "cell_type": "code",
      "source": [
        "clr = lgbm.fit(train, targets)\n",
        "predictions = clr.predict_proba(test)[:, 1]\n",
        "submission['IsBadBuy'] = predictions\n",
        "submission.to_csv('Submissions_lgbm.csv',index=False)"
      ],
      "metadata": {
        "id": "qLDTauaC3opU"
      },
      "execution_count": 139,
      "outputs": []
    },
    {
      "cell_type": "code",
      "source": [
        "submission.head()"
      ],
      "metadata": {
        "colab": {
          "base_uri": "https://localhost:8080/",
          "height": 206
        },
        "id": "yzrAertM5I77",
        "outputId": "defe19f2-e39e-4c9e-fa76-71ec0e0b4b34"
      },
      "execution_count": 140,
      "outputs": [
        {
          "output_type": "execute_result",
          "data": {
            "text/plain": [
              "   RefId  IsBadBuy\n",
              "0  73015  0.097400\n",
              "1  73016  0.064354\n",
              "2  73017  0.050593\n",
              "3  73018  0.289123\n",
              "4  73019  0.829162"
            ],
            "text/html": [
              "\n",
              "  <div id=\"df-b485ea6d-2c30-4f7f-822a-7b5530669707\">\n",
              "    <div class=\"colab-df-container\">\n",
              "      <div>\n",
              "<style scoped>\n",
              "    .dataframe tbody tr th:only-of-type {\n",
              "        vertical-align: middle;\n",
              "    }\n",
              "\n",
              "    .dataframe tbody tr th {\n",
              "        vertical-align: top;\n",
              "    }\n",
              "\n",
              "    .dataframe thead th {\n",
              "        text-align: right;\n",
              "    }\n",
              "</style>\n",
              "<table border=\"1\" class=\"dataframe\">\n",
              "  <thead>\n",
              "    <tr style=\"text-align: right;\">\n",
              "      <th></th>\n",
              "      <th>RefId</th>\n",
              "      <th>IsBadBuy</th>\n",
              "    </tr>\n",
              "  </thead>\n",
              "  <tbody>\n",
              "    <tr>\n",
              "      <th>0</th>\n",
              "      <td>73015</td>\n",
              "      <td>0.097400</td>\n",
              "    </tr>\n",
              "    <tr>\n",
              "      <th>1</th>\n",
              "      <td>73016</td>\n",
              "      <td>0.064354</td>\n",
              "    </tr>\n",
              "    <tr>\n",
              "      <th>2</th>\n",
              "      <td>73017</td>\n",
              "      <td>0.050593</td>\n",
              "    </tr>\n",
              "    <tr>\n",
              "      <th>3</th>\n",
              "      <td>73018</td>\n",
              "      <td>0.289123</td>\n",
              "    </tr>\n",
              "    <tr>\n",
              "      <th>4</th>\n",
              "      <td>73019</td>\n",
              "      <td>0.829162</td>\n",
              "    </tr>\n",
              "  </tbody>\n",
              "</table>\n",
              "</div>\n",
              "      <button class=\"colab-df-convert\" onclick=\"convertToInteractive('df-b485ea6d-2c30-4f7f-822a-7b5530669707')\"\n",
              "              title=\"Convert this dataframe to an interactive table.\"\n",
              "              style=\"display:none;\">\n",
              "        \n",
              "  <svg xmlns=\"http://www.w3.org/2000/svg\" height=\"24px\"viewBox=\"0 0 24 24\"\n",
              "       width=\"24px\">\n",
              "    <path d=\"M0 0h24v24H0V0z\" fill=\"none\"/>\n",
              "    <path d=\"M18.56 5.44l.94 2.06.94-2.06 2.06-.94-2.06-.94-.94-2.06-.94 2.06-2.06.94zm-11 1L8.5 8.5l.94-2.06 2.06-.94-2.06-.94L8.5 2.5l-.94 2.06-2.06.94zm10 10l.94 2.06.94-2.06 2.06-.94-2.06-.94-.94-2.06-.94 2.06-2.06.94z\"/><path d=\"M17.41 7.96l-1.37-1.37c-.4-.4-.92-.59-1.43-.59-.52 0-1.04.2-1.43.59L10.3 9.45l-7.72 7.72c-.78.78-.78 2.05 0 2.83L4 21.41c.39.39.9.59 1.41.59.51 0 1.02-.2 1.41-.59l7.78-7.78 2.81-2.81c.8-.78.8-2.07 0-2.86zM5.41 20L4 18.59l7.72-7.72 1.47 1.35L5.41 20z\"/>\n",
              "  </svg>\n",
              "      </button>\n",
              "      \n",
              "  <style>\n",
              "    .colab-df-container {\n",
              "      display:flex;\n",
              "      flex-wrap:wrap;\n",
              "      gap: 12px;\n",
              "    }\n",
              "\n",
              "    .colab-df-convert {\n",
              "      background-color: #E8F0FE;\n",
              "      border: none;\n",
              "      border-radius: 50%;\n",
              "      cursor: pointer;\n",
              "      display: none;\n",
              "      fill: #1967D2;\n",
              "      height: 32px;\n",
              "      padding: 0 0 0 0;\n",
              "      width: 32px;\n",
              "    }\n",
              "\n",
              "    .colab-df-convert:hover {\n",
              "      background-color: #E2EBFA;\n",
              "      box-shadow: 0px 1px 2px rgba(60, 64, 67, 0.3), 0px 1px 3px 1px rgba(60, 64, 67, 0.15);\n",
              "      fill: #174EA6;\n",
              "    }\n",
              "\n",
              "    [theme=dark] .colab-df-convert {\n",
              "      background-color: #3B4455;\n",
              "      fill: #D2E3FC;\n",
              "    }\n",
              "\n",
              "    [theme=dark] .colab-df-convert:hover {\n",
              "      background-color: #434B5C;\n",
              "      box-shadow: 0px 1px 3px 1px rgba(0, 0, 0, 0.15);\n",
              "      filter: drop-shadow(0px 1px 2px rgba(0, 0, 0, 0.3));\n",
              "      fill: #FFFFFF;\n",
              "    }\n",
              "  </style>\n",
              "\n",
              "      <script>\n",
              "        const buttonEl =\n",
              "          document.querySelector('#df-b485ea6d-2c30-4f7f-822a-7b5530669707 button.colab-df-convert');\n",
              "        buttonEl.style.display =\n",
              "          google.colab.kernel.accessAllowed ? 'block' : 'none';\n",
              "\n",
              "        async function convertToInteractive(key) {\n",
              "          const element = document.querySelector('#df-b485ea6d-2c30-4f7f-822a-7b5530669707');\n",
              "          const dataTable =\n",
              "            await google.colab.kernel.invokeFunction('convertToInteractive',\n",
              "                                                     [key], {});\n",
              "          if (!dataTable) return;\n",
              "\n",
              "          const docLinkHtml = 'Like what you see? Visit the ' +\n",
              "            '<a target=\"_blank\" href=https://colab.research.google.com/notebooks/data_table.ipynb>data table notebook</a>'\n",
              "            + ' to learn more about interactive tables.';\n",
              "          element.innerHTML = '';\n",
              "          dataTable['output_type'] = 'display_data';\n",
              "          await google.colab.output.renderOutput(dataTable, element);\n",
              "          const docLink = document.createElement('div');\n",
              "          docLink.innerHTML = docLinkHtml;\n",
              "          element.appendChild(docLink);\n",
              "        }\n",
              "      </script>\n",
              "    </div>\n",
              "  </div>\n",
              "  "
            ]
          },
          "metadata": {},
          "execution_count": 140
        }
      ]
    },
    {
      "cell_type": "code",
      "source": [
        "from google.colab import files\n",
        "files.download('Submissions_lgbm.csv')"
      ],
      "metadata": {
        "colab": {
          "base_uri": "https://localhost:8080/",
          "height": 17
        },
        "id": "HSG0p-fP4Thx",
        "outputId": "3ff414ff-677a-44b0-f363-2e41127e7b9a"
      },
      "execution_count": 141,
      "outputs": [
        {
          "output_type": "display_data",
          "data": {
            "text/plain": [
              "<IPython.core.display.Javascript object>"
            ],
            "application/javascript": [
              "\n",
              "    async function download(id, filename, size) {\n",
              "      if (!google.colab.kernel.accessAllowed) {\n",
              "        return;\n",
              "      }\n",
              "      const div = document.createElement('div');\n",
              "      const label = document.createElement('label');\n",
              "      label.textContent = `Downloading \"${filename}\": `;\n",
              "      div.appendChild(label);\n",
              "      const progress = document.createElement('progress');\n",
              "      progress.max = size;\n",
              "      div.appendChild(progress);\n",
              "      document.body.appendChild(div);\n",
              "\n",
              "      const buffers = [];\n",
              "      let downloaded = 0;\n",
              "\n",
              "      const channel = await google.colab.kernel.comms.open(id);\n",
              "      // Send a message to notify the kernel that we're ready.\n",
              "      channel.send({})\n",
              "\n",
              "      for await (const message of channel.messages) {\n",
              "        // Send a message to notify the kernel that we're ready.\n",
              "        channel.send({})\n",
              "        if (message.buffers) {\n",
              "          for (const buffer of message.buffers) {\n",
              "            buffers.push(buffer);\n",
              "            downloaded += buffer.byteLength;\n",
              "            progress.value = downloaded;\n",
              "          }\n",
              "        }\n",
              "      }\n",
              "      const blob = new Blob(buffers, {type: 'application/binary'});\n",
              "      const a = document.createElement('a');\n",
              "      a.href = window.URL.createObjectURL(blob);\n",
              "      a.download = filename;\n",
              "      div.appendChild(a);\n",
              "      a.click();\n",
              "      div.remove();\n",
              "    }\n",
              "  "
            ]
          },
          "metadata": {}
        },
        {
          "output_type": "display_data",
          "data": {
            "text/plain": [
              "<IPython.core.display.Javascript object>"
            ],
            "application/javascript": [
              "download(\"download_38710e5d-bdfc-4805-9f07-d018179fc785\", \"Submissions_lgbm.csv\", 1283844)"
            ]
          },
          "metadata": {}
        }
      ]
    },
    {
      "cell_type": "markdown",
      "source": [
        "# Try Output with Logistic Regression"
      ],
      "metadata": {
        "id": "qfy0ahiC6iHH"
      }
    },
    {
      "cell_type": "code",
      "source": [
        "clr_log = logreg.fit(train, targets)\n",
        "predictions_log = clr_log.predict_proba(test)[:, 1]\n",
        "submission_log['IsBadBuy'] = predictions_log\n",
        "submission_log.to_csv('Submissions_logreg.csv', index=False)\n",
        "files.download('Submissions_logreg.csv')"
      ],
      "metadata": {
        "colab": {
          "base_uri": "https://localhost:8080/",
          "height": 163
        },
        "id": "fToa9b6N6lr5",
        "outputId": "1447d7c9-009d-47b0-f9f4-4c2b89457cc7"
      },
      "execution_count": 143,
      "outputs": [
        {
          "output_type": "stream",
          "name": "stderr",
          "text": [
            "/usr/local/lib/python3.8/dist-packages/sklearn/linear_model/_logistic.py:814: ConvergenceWarning: lbfgs failed to converge (status=1):\n",
            "STOP: TOTAL NO. of ITERATIONS REACHED LIMIT.\n",
            "\n",
            "Increase the number of iterations (max_iter) or scale the data as shown in:\n",
            "    https://scikit-learn.org/stable/modules/preprocessing.html\n",
            "Please also refer to the documentation for alternative solver options:\n",
            "    https://scikit-learn.org/stable/modules/linear_model.html#logistic-regression\n",
            "  n_iter_i = _check_optimize_result(\n"
          ]
        },
        {
          "output_type": "display_data",
          "data": {
            "text/plain": [
              "<IPython.core.display.Javascript object>"
            ],
            "application/javascript": [
              "\n",
              "    async function download(id, filename, size) {\n",
              "      if (!google.colab.kernel.accessAllowed) {\n",
              "        return;\n",
              "      }\n",
              "      const div = document.createElement('div');\n",
              "      const label = document.createElement('label');\n",
              "      label.textContent = `Downloading \"${filename}\": `;\n",
              "      div.appendChild(label);\n",
              "      const progress = document.createElement('progress');\n",
              "      progress.max = size;\n",
              "      div.appendChild(progress);\n",
              "      document.body.appendChild(div);\n",
              "\n",
              "      const buffers = [];\n",
              "      let downloaded = 0;\n",
              "\n",
              "      const channel = await google.colab.kernel.comms.open(id);\n",
              "      // Send a message to notify the kernel that we're ready.\n",
              "      channel.send({})\n",
              "\n",
              "      for await (const message of channel.messages) {\n",
              "        // Send a message to notify the kernel that we're ready.\n",
              "        channel.send({})\n",
              "        if (message.buffers) {\n",
              "          for (const buffer of message.buffers) {\n",
              "            buffers.push(buffer);\n",
              "            downloaded += buffer.byteLength;\n",
              "            progress.value = downloaded;\n",
              "          }\n",
              "        }\n",
              "      }\n",
              "      const blob = new Blob(buffers, {type: 'application/binary'});\n",
              "      const a = document.createElement('a');\n",
              "      a.href = window.URL.createObjectURL(blob);\n",
              "      a.download = filename;\n",
              "      div.appendChild(a);\n",
              "      a.click();\n",
              "      div.remove();\n",
              "    }\n",
              "  "
            ]
          },
          "metadata": {}
        },
        {
          "output_type": "display_data",
          "data": {
            "text/plain": [
              "<IPython.core.display.Javascript object>"
            ],
            "application/javascript": [
              "download(\"download_0ca23b12-f96a-4217-b183-bec091cc0607\", \"Submissions_logreg.csv\", 1282977)"
            ]
          },
          "metadata": {}
        }
      ]
    },
    {
      "cell_type": "markdown",
      "source": [
        "# Export Data"
      ],
      "metadata": {
        "id": "tcbA5YX6S0_-"
      }
    },
    {
      "cell_type": "code",
      "source": [
        "from google.colab import files\n",
        "train.to_csv('carvana_train_clean.csv', index=False)\n",
        "files.download('carvana_train_clean.csv')\n",
        "test.to_csv('carvana_test_clean.csv', index=False)\n",
        "files.download('carvana_test_clean.csv')"
      ],
      "metadata": {
        "colab": {
          "base_uri": "https://localhost:8080/",
          "height": 17
        },
        "id": "VEi30SZYS0vA",
        "outputId": "9739f1fe-7ce8-40a3-d92e-c31e3b1347b0"
      },
      "execution_count": 100,
      "outputs": [
        {
          "output_type": "display_data",
          "data": {
            "text/plain": [
              "<IPython.core.display.Javascript object>"
            ],
            "application/javascript": [
              "\n",
              "    async function download(id, filename, size) {\n",
              "      if (!google.colab.kernel.accessAllowed) {\n",
              "        return;\n",
              "      }\n",
              "      const div = document.createElement('div');\n",
              "      const label = document.createElement('label');\n",
              "      label.textContent = `Downloading \"${filename}\": `;\n",
              "      div.appendChild(label);\n",
              "      const progress = document.createElement('progress');\n",
              "      progress.max = size;\n",
              "      div.appendChild(progress);\n",
              "      document.body.appendChild(div);\n",
              "\n",
              "      const buffers = [];\n",
              "      let downloaded = 0;\n",
              "\n",
              "      const channel = await google.colab.kernel.comms.open(id);\n",
              "      // Send a message to notify the kernel that we're ready.\n",
              "      channel.send({})\n",
              "\n",
              "      for await (const message of channel.messages) {\n",
              "        // Send a message to notify the kernel that we're ready.\n",
              "        channel.send({})\n",
              "        if (message.buffers) {\n",
              "          for (const buffer of message.buffers) {\n",
              "            buffers.push(buffer);\n",
              "            downloaded += buffer.byteLength;\n",
              "            progress.value = downloaded;\n",
              "          }\n",
              "        }\n",
              "      }\n",
              "      const blob = new Blob(buffers, {type: 'application/binary'});\n",
              "      const a = document.createElement('a');\n",
              "      a.href = window.URL.createObjectURL(blob);\n",
              "      a.download = filename;\n",
              "      div.appendChild(a);\n",
              "      a.click();\n",
              "      div.remove();\n",
              "    }\n",
              "  "
            ]
          },
          "metadata": {}
        },
        {
          "output_type": "display_data",
          "data": {
            "text/plain": [
              "<IPython.core.display.Javascript object>"
            ],
            "application/javascript": [
              "download(\"download_d769d3fb-f2f6-4645-abdf-f3d3f3daf95d\", \"carvana_train_clean.csv\", 31472445)"
            ]
          },
          "metadata": {}
        },
        {
          "output_type": "display_data",
          "data": {
            "text/plain": [
              "<IPython.core.display.Javascript object>"
            ],
            "application/javascript": [
              "\n",
              "    async function download(id, filename, size) {\n",
              "      if (!google.colab.kernel.accessAllowed) {\n",
              "        return;\n",
              "      }\n",
              "      const div = document.createElement('div');\n",
              "      const label = document.createElement('label');\n",
              "      label.textContent = `Downloading \"${filename}\": `;\n",
              "      div.appendChild(label);\n",
              "      const progress = document.createElement('progress');\n",
              "      progress.max = size;\n",
              "      div.appendChild(progress);\n",
              "      document.body.appendChild(div);\n",
              "\n",
              "      const buffers = [];\n",
              "      let downloaded = 0;\n",
              "\n",
              "      const channel = await google.colab.kernel.comms.open(id);\n",
              "      // Send a message to notify the kernel that we're ready.\n",
              "      channel.send({})\n",
              "\n",
              "      for await (const message of channel.messages) {\n",
              "        // Send a message to notify the kernel that we're ready.\n",
              "        channel.send({})\n",
              "        if (message.buffers) {\n",
              "          for (const buffer of message.buffers) {\n",
              "            buffers.push(buffer);\n",
              "            downloaded += buffer.byteLength;\n",
              "            progress.value = downloaded;\n",
              "          }\n",
              "        }\n",
              "      }\n",
              "      const blob = new Blob(buffers, {type: 'application/binary'});\n",
              "      const a = document.createElement('a');\n",
              "      a.href = window.URL.createObjectURL(blob);\n",
              "      a.download = filename;\n",
              "      div.appendChild(a);\n",
              "      a.click();\n",
              "      div.remove();\n",
              "    }\n",
              "  "
            ]
          },
          "metadata": {}
        },
        {
          "output_type": "display_data",
          "data": {
            "text/plain": [
              "<IPython.core.display.Javascript object>"
            ],
            "application/javascript": [
              "download(\"download_0e563fb0-6492-405c-ac00-831337b0c209\", \"carvana_test_clean.csv\", 21005363)"
            ]
          },
          "metadata": {}
        }
      ]
    },
    {
      "cell_type": "code",
      "source": [
        "submission.to_csv('carvana_submit_clean.csv', index=False)\n",
        "files.download('carvana_submit_clean.csv')"
      ],
      "metadata": {
        "colab": {
          "base_uri": "https://localhost:8080/",
          "height": 17
        },
        "id": "WobW2ageYSqt",
        "outputId": "a0dfa667-d816-4c4d-b9c7-8931c5ecf338"
      },
      "execution_count": 118,
      "outputs": [
        {
          "output_type": "display_data",
          "data": {
            "text/plain": [
              "<IPython.core.display.Javascript object>"
            ],
            "application/javascript": [
              "\n",
              "    async function download(id, filename, size) {\n",
              "      if (!google.colab.kernel.accessAllowed) {\n",
              "        return;\n",
              "      }\n",
              "      const div = document.createElement('div');\n",
              "      const label = document.createElement('label');\n",
              "      label.textContent = `Downloading \"${filename}\": `;\n",
              "      div.appendChild(label);\n",
              "      const progress = document.createElement('progress');\n",
              "      progress.max = size;\n",
              "      div.appendChild(progress);\n",
              "      document.body.appendChild(div);\n",
              "\n",
              "      const buffers = [];\n",
              "      let downloaded = 0;\n",
              "\n",
              "      const channel = await google.colab.kernel.comms.open(id);\n",
              "      // Send a message to notify the kernel that we're ready.\n",
              "      channel.send({})\n",
              "\n",
              "      for await (const message of channel.messages) {\n",
              "        // Send a message to notify the kernel that we're ready.\n",
              "        channel.send({})\n",
              "        if (message.buffers) {\n",
              "          for (const buffer of message.buffers) {\n",
              "            buffers.push(buffer);\n",
              "            downloaded += buffer.byteLength;\n",
              "            progress.value = downloaded;\n",
              "          }\n",
              "        }\n",
              "      }\n",
              "      const blob = new Blob(buffers, {type: 'application/binary'});\n",
              "      const a = document.createElement('a');\n",
              "      a.href = window.URL.createObjectURL(blob);\n",
              "      a.download = filename;\n",
              "      div.appendChild(a);\n",
              "      a.click();\n",
              "      div.remove();\n",
              "    }\n",
              "  "
            ]
          },
          "metadata": {}
        },
        {
          "output_type": "display_data",
          "data": {
            "text/plain": [
              "<IPython.core.display.Javascript object>"
            ],
            "application/javascript": [
              "download(\"download_7032a09d-b97d-4547-9417-664fa5555a8e\", \"carvana_submit_clean.csv\", 313982)"
            ]
          },
          "metadata": {}
        }
      ]
    },
    {
      "cell_type": "code",
      "source": [
        "targets.to_csv('targets_carvana.csv', index=False)\n",
        "files.download('targets_carvana.csv')"
      ],
      "metadata": {
        "colab": {
          "base_uri": "https://localhost:8080/",
          "height": 17
        },
        "id": "M-mNNOLsZfVm",
        "outputId": "d2f72211-1b1e-456e-994a-6088096540b6"
      },
      "execution_count": 117,
      "outputs": [
        {
          "output_type": "display_data",
          "data": {
            "text/plain": [
              "<IPython.core.display.Javascript object>"
            ],
            "application/javascript": [
              "\n",
              "    async function download(id, filename, size) {\n",
              "      if (!google.colab.kernel.accessAllowed) {\n",
              "        return;\n",
              "      }\n",
              "      const div = document.createElement('div');\n",
              "      const label = document.createElement('label');\n",
              "      label.textContent = `Downloading \"${filename}\": `;\n",
              "      div.appendChild(label);\n",
              "      const progress = document.createElement('progress');\n",
              "      progress.max = size;\n",
              "      div.appendChild(progress);\n",
              "      document.body.appendChild(div);\n",
              "\n",
              "      const buffers = [];\n",
              "      let downloaded = 0;\n",
              "\n",
              "      const channel = await google.colab.kernel.comms.open(id);\n",
              "      // Send a message to notify the kernel that we're ready.\n",
              "      channel.send({})\n",
              "\n",
              "      for await (const message of channel.messages) {\n",
              "        // Send a message to notify the kernel that we're ready.\n",
              "        channel.send({})\n",
              "        if (message.buffers) {\n",
              "          for (const buffer of message.buffers) {\n",
              "            buffers.push(buffer);\n",
              "            downloaded += buffer.byteLength;\n",
              "            progress.value = downloaded;\n",
              "          }\n",
              "        }\n",
              "      }\n",
              "      const blob = new Blob(buffers, {type: 'application/binary'});\n",
              "      const a = document.createElement('a');\n",
              "      a.href = window.URL.createObjectURL(blob);\n",
              "      a.download = filename;\n",
              "      div.appendChild(a);\n",
              "      a.click();\n",
              "      div.remove();\n",
              "    }\n",
              "  "
            ]
          },
          "metadata": {}
        },
        {
          "output_type": "display_data",
          "data": {
            "text/plain": [
              "<IPython.core.display.Javascript object>"
            ],
            "application/javascript": [
              "download(\"download_182e1c31-3227-4270-b9b2-24b8e8a019bf\", \"targets_carvana.csv\", 291941)"
            ]
          },
          "metadata": {}
        }
      ]
    }
  ]
}